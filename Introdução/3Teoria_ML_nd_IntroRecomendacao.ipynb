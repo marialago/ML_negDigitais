{
  "nbformat": 4,
  "nbformat_minor": 0,
  "metadata": {
    "colab": {
      "name": "3_ML_nd-IntroRecomendacao.ipynb",
      "provenance": []
    },
    "kernelspec": {
      "name": "python3",
      "display_name": "Python 3"
    },
    "language_info": {
      "name": "python"
    }
  },
  "cells": [
    {
      "cell_type": "markdown",
      "metadata": {
        "id": "9PWSqsqj-PEJ"
      },
      "source": [
        "# **Procurar usuários similares**\n",
        "Essa procura é realizada a partir do calculo da distância entre os usuários, a situação a seguir trata de usuários que votaram nos filmes e armazenam as notas nos vetores."
      ]
    },
    {
      "cell_type": "code",
      "metadata": {
        "id": "GhAkOOm283iJ",
        "colab": {
          "base_uri": "https://localhost:8080/",
          "height": 297
        },
        "outputId": "7e94a3a3-8480-4c25-9e1f-80e92523678c"
      },
      "source": [
        "#joao = [4,4.5]\n",
        "#maria = [5,5]\n",
        "import matplotlib.pyplot as plt\n",
        "plt.plot(4,4.5, \"go\")\n",
        "plt.plot(5,5, \"yo\")\n",
        "\n",
        "plt.legend([\"joao\", \"maria\"])\n",
        "plt.title(\"Calculo das distancias\")\n",
        "#em algebra linear essa distancia eh calculada a partir da norma dos vetores\n",
        "# na biblioteca numpy tem uma funcao que faz esse calculo"
      ],
      "execution_count": 4,
      "outputs": [
        {
          "output_type": "execute_result",
          "data": {
            "text/plain": [
              "Text(0.5, 1.0, 'Calculo das distancias')"
            ]
          },
          "metadata": {
            "tags": []
          },
          "execution_count": 4
        },
        {
          "output_type": "display_data",
          "data": {
            "image/png": "[encoded data removed]",
            "text/plain": [
              "<Figure size 432x288 with 1 Axes>"
            ]
          },
          "metadata": {
            "tags": [],
            "needs_background": "light"
          }
        }
      ]
    },
    {
      "cell_type": "code",
      "metadata": {
        "id": "Oykh60nAGCBq"
      },
      "source": [
        "def distancia(a,b):\n",
        "  return np.linalg.norm(a - b)"
      ],
      "execution_count": 5,
      "outputs": []
    }
  ]
}
