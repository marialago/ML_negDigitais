{
  "nbformat": 4,
  "nbformat_minor": 0,
  "metadata": {
    "colab": {
      "name": "MLP_alura1.ipynb",
      "provenance": []
    },
    "kernelspec": {
      "name": "python3",
      "display_name": "Python 3"
    },
    "language_info": {
      "name": "python"
    }
  },
  "cells": [
    {
      "cell_type": "code",
      "metadata": {
        "id": "KasB0YKoC8z-",
        "colab": {
          "base_uri": "https://localhost:8080/",
          "height": 340
        },
        "outputId": "66a0b57a-ef29-4e5e-91e7-18a215ac7bbd"
      },
      "source": [
        "import pandas as pd\n",
        "\n",
        "perguntas = pd.read_csv(\"stackoverflow_perguntas.csv\")\n",
        "perguntas.sample(10)"
      ],
      "execution_count": 1,
      "outputs": [
        {
          "output_type": "execute_result",
          "data": {
            "text/html": [
              "<div>\n",
              "<style scoped>\n",
              "    .dataframe tbody tr th:only-of-type {\n",
              "        vertical-align: middle;\n",
              "    }\n",
              "\n",
              "    .dataframe tbody tr th {\n",
              "        vertical-align: top;\n",
              "    }\n",
              "\n",
              "    .dataframe thead th {\n",
              "        text-align: right;\n",
              "    }\n",
              "</style>\n",
              "<table border=\"1\" class=\"dataframe\">\n",
              "  <thead>\n",
              "    <tr style=\"text-align: right;\">\n",
              "      <th></th>\n",
              "      <th>Perguntas</th>\n",
              "      <th>Tags</th>\n",
              "    </tr>\n",
              "  </thead>\n",
              "  <tbody>\n",
              "    <tr>\n",
              "      <th>1409</th>\n",
              "      <td>Estou à procura de uma paginação simples, sem ...</td>\n",
              "      <td>jquery html</td>\n",
              "    </tr>\n",
              "    <tr>\n",
              "      <th>4256</th>\n",
              "      <td>Estou aprendendo a escrever UserScripts (para ...</td>\n",
              "      <td>jquery</td>\n",
              "    </tr>\n",
              "    <tr>\n",
              "      <th>403</th>\n",
              "      <td>Quando se quer enviar um formulário sem atuali...</td>\n",
              "      <td>jquery html</td>\n",
              "    </tr>\n",
              "    <tr>\n",
              "      <th>546</th>\n",
              "      <td>Galera, para ser bem direto, vou utilizar como...</td>\n",
              "      <td>jquery html</td>\n",
              "    </tr>\n",
              "    <tr>\n",
              "      <th>1152</th>\n",
              "      <td>Em navegadores para computador consigo preveni...</td>\n",
              "      <td>jquery html</td>\n",
              "    </tr>\n",
              "    <tr>\n",
              "      <th>3633</th>\n",
              "      <td>Estou passando um json para minha view e preci...</td>\n",
              "      <td>jquery</td>\n",
              "    </tr>\n",
              "    <tr>\n",
              "      <th>3920</th>\n",
              "      <td>Venho percebendo cada vez mais ferramentas com...</td>\n",
              "      <td>angular node.js</td>\n",
              "    </tr>\n",
              "    <tr>\n",
              "      <th>111</th>\n",
              "      <td>Como adicionar o nono digito, de forma fixa, u...</td>\n",
              "      <td>jquery</td>\n",
              "    </tr>\n",
              "    <tr>\n",
              "      <th>4179</th>\n",
              "      <td>Estou utilizando a documentação em node da bli...</td>\n",
              "      <td>node.js</td>\n",
              "    </tr>\n",
              "    <tr>\n",
              "      <th>5247</th>\n",
              "      <td>Por que recomendam usar CODE  se a maioria dos...</td>\n",
              "      <td>html</td>\n",
              "    </tr>\n",
              "  </tbody>\n",
              "</table>\n",
              "</div>"
            ],
            "text/plain": [
              "                                              Perguntas             Tags\n",
              "1409  Estou à procura de uma paginação simples, sem ...      jquery html\n",
              "4256  Estou aprendendo a escrever UserScripts (para ...           jquery\n",
              "403   Quando se quer enviar um formulário sem atuali...      jquery html\n",
              "546   Galera, para ser bem direto, vou utilizar como...      jquery html\n",
              "1152  Em navegadores para computador consigo preveni...      jquery html\n",
              "3633  Estou passando um json para minha view e preci...           jquery\n",
              "3920  Venho percebendo cada vez mais ferramentas com...  angular node.js\n",
              "111   Como adicionar o nono digito, de forma fixa, u...           jquery\n",
              "4179  Estou utilizando a documentação em node da bli...          node.js\n",
              "5247  Por que recomendam usar CODE  se a maioria dos...             html"
            ]
          },
          "metadata": {
            "tags": []
          },
          "execution_count": 1
        }
      ]
    },
    {
      "cell_type": "markdown",
      "metadata": {
        "id": "w81DZt1UNi9S"
      },
      "source": [
        "# **preparando os dados**"
      ]
    },
    {
      "cell_type": "code",
      "metadata": {
        "colab": {
          "base_uri": "https://localhost:8080/"
        },
        "id": "gJKgRomEBz8B",
        "outputId": "a7617a5f-099b-4819-867d-4e8ada7986e1"
      },
      "source": [
        "print(len(perguntas))"
      ],
      "execution_count": 2,
      "outputs": [
        {
          "output_type": "stream",
          "text": [
            "5408\n"
          ],
          "name": "stdout"
        }
      ]
    },
    {
      "cell_type": "code",
      "metadata": {
        "colab": {
          "base_uri": "https://localhost:8080/"
        },
        "id": "dYx9UX1MDEDz",
        "outputId": "73b2d0e8-2cd8-46c5-f001-76f8f7dde748"
      },
      "source": [
        "print(len(perguntas.Tags.unique()))"
      ],
      "execution_count": 3,
      "outputs": [
        {
          "output_type": "stream",
          "text": [
            "37\n"
          ],
          "name": "stdout"
        }
      ]
    },
    {
      "cell_type": "code",
      "metadata": {
        "colab": {
          "base_uri": "https://localhost:8080/"
        },
        "id": "JrtMooogEvOv",
        "outputId": "88c34a0b-839b-41b0-95c2-f72a439253e0"
      },
      "source": [
        "perguntas.Tags.unique()"
      ],
      "execution_count": 4,
      "outputs": [
        {
          "output_type": "execute_result",
          "data": {
            "text/plain": [
              "array(['node.js', 'jquery', 'html', 'html angular ', 'html ', 'angular',\n",
              "       'angular ', 'jquery html  ', 'jquery ', 'jquery html',\n",
              "       'jquery html ', 'html angular', 'angular node.js ', 'html  ',\n",
              "       'jquery html angular', 'node.js ', 'html jquery', 'html jquery ',\n",
              "       'jquery angular  ', 'html node.js', 'jquery  ', 'angular node.js',\n",
              "       'jquery angular', 'html node.js ', 'jquery node.js ', 'angular  ',\n",
              "       'jquery angular ', 'jquery html angular ', 'node.js html ',\n",
              "       ' node.js', 'node.js html', 'html angular  ', 'jquery node.js',\n",
              "       'angular html', 'html angular  node.js', 'jquery html node.js',\n",
              "       'html angular node.js'], dtype=object)"
            ]
          },
          "metadata": {
            "tags": []
          },
          "execution_count": 4
        }
      ]
    },
    {
      "cell_type": "code",
      "metadata": {
        "colab": {
          "base_uri": "https://localhost:8080/"
        },
        "id": "F56LdHT8EzHm",
        "outputId": "271b5a40-6ec3-41fe-af36-d9bfb224fcc9"
      },
      "source": [
        "lista_de_tags = list()\n",
        "#\"node.js html\".split separa as strings\n",
        "for tags in perguntas.Tags.unique():\n",
        "  for tag in tags.split():\n",
        "    if tag not in lista_de_tags:\n",
        "       lista_de_tags.append(tag)\n",
        "\n",
        "print(lista_de_tags)"
      ],
      "execution_count": 5,
      "outputs": [
        {
          "output_type": "stream",
          "text": [
            "['node.js', 'jquery', 'html', 'angular']\n"
          ],
          "name": "stdout"
        }
      ]
    },
    {
      "cell_type": "code",
      "metadata": {
        "colab": {
          "base_uri": "https://localhost:8080/",
          "height": 399
        },
        "id": "YK36kQ55HX_0",
        "outputId": "909bcf50-c2c1-41a3-cb1d-85afb538dc3e"
      },
      "source": [
        "node_js = list()\n",
        "for linha_tag in perguntas.Tags:\n",
        "  if \"node.js\" in linha_tag:\n",
        "    node_js.append(1)\n",
        "  else:\n",
        "    node_js.append(0)\n",
        "perguntas[\"node.js\"] = node_js\n",
        "perguntas"
      ],
      "execution_count": 6,
      "outputs": [
        {
          "output_type": "execute_result",
          "data": {
            "text/html": [
              "<div>\n",
              "<style scoped>\n",
              "    .dataframe tbody tr th:only-of-type {\n",
              "        vertical-align: middle;\n",
              "    }\n",
              "\n",
              "    .dataframe tbody tr th {\n",
              "        vertical-align: top;\n",
              "    }\n",
              "\n",
              "    .dataframe thead th {\n",
              "        text-align: right;\n",
              "    }\n",
              "</style>\n",
              "<table border=\"1\" class=\"dataframe\">\n",
              "  <thead>\n",
              "    <tr style=\"text-align: right;\">\n",
              "      <th></th>\n",
              "      <th>Perguntas</th>\n",
              "      <th>Tags</th>\n",
              "      <th>node.js</th>\n",
              "    </tr>\n",
              "  </thead>\n",
              "  <tbody>\n",
              "    <tr>\n",
              "      <th>0</th>\n",
              "      <td>Possuo um projeto Node.js porém preciso criar ...</td>\n",
              "      <td>node.js</td>\n",
              "      <td>1</td>\n",
              "    </tr>\n",
              "    <tr>\n",
              "      <th>1</th>\n",
              "      <td>Gostaria de fazer testes unitários no Node.js,...</td>\n",
              "      <td>node.js</td>\n",
              "      <td>1</td>\n",
              "    </tr>\n",
              "    <tr>\n",
              "      <th>2</th>\n",
              "      <td>Como inverter a ordem com que o jQuery itera u...</td>\n",
              "      <td>jquery</td>\n",
              "      <td>0</td>\n",
              "    </tr>\n",
              "    <tr>\n",
              "      <th>3</th>\n",
              "      <td>Eu tenho uma página onde pretendo utilizar um ...</td>\n",
              "      <td>html</td>\n",
              "      <td>0</td>\n",
              "    </tr>\n",
              "    <tr>\n",
              "      <th>4</th>\n",
              "      <td>Como exibir os dados retornados do FireStore e...</td>\n",
              "      <td>html angular</td>\n",
              "      <td>0</td>\n",
              "    </tr>\n",
              "    <tr>\n",
              "      <th>...</th>\n",
              "      <td>...</td>\n",
              "      <td>...</td>\n",
              "      <td>...</td>\n",
              "    </tr>\n",
              "    <tr>\n",
              "      <th>5403</th>\n",
              "      <td>Queria saber como pegar o total de cores de um...</td>\n",
              "      <td>jquery html</td>\n",
              "      <td>0</td>\n",
              "    </tr>\n",
              "    <tr>\n",
              "      <th>5404</th>\n",
              "      <td>Boa noite, estou usando phonegap para fazer um...</td>\n",
              "      <td>html</td>\n",
              "      <td>0</td>\n",
              "    </tr>\n",
              "    <tr>\n",
              "      <th>5405</th>\n",
              "      <td>Estou construindo um mini fórum, e nele, os us...</td>\n",
              "      <td>jquery html</td>\n",
              "      <td>0</td>\n",
              "    </tr>\n",
              "    <tr>\n",
              "      <th>5406</th>\n",
              "      <td>Boa tarde,  Estou para desenvolver um site na ...</td>\n",
              "      <td>html</td>\n",
              "      <td>0</td>\n",
              "    </tr>\n",
              "    <tr>\n",
              "      <th>5407</th>\n",
              "      <td>Estou fazendo um hotsite, ele é one page, e é ...</td>\n",
              "      <td>jquery html</td>\n",
              "      <td>0</td>\n",
              "    </tr>\n",
              "  </tbody>\n",
              "</table>\n",
              "<p>5408 rows × 3 columns</p>\n",
              "</div>"
            ],
            "text/plain": [
              "                                              Perguntas           Tags  node.js\n",
              "0     Possuo um projeto Node.js porém preciso criar ...        node.js        1\n",
              "1     Gostaria de fazer testes unitários no Node.js,...        node.js        1\n",
              "2     Como inverter a ordem com que o jQuery itera u...         jquery        0\n",
              "3     Eu tenho uma página onde pretendo utilizar um ...           html        0\n",
              "4     Como exibir os dados retornados do FireStore e...  html angular         0\n",
              "...                                                 ...            ...      ...\n",
              "5403  Queria saber como pegar o total de cores de um...   jquery html         0\n",
              "5404  Boa noite, estou usando phonegap para fazer um...          html         0\n",
              "5405  Estou construindo um mini fórum, e nele, os us...    jquery html        0\n",
              "5406  Boa tarde,  Estou para desenvolver um site na ...           html        0\n",
              "5407  Estou fazendo um hotsite, ele é one page, e é ...    jquery html        0\n",
              "\n",
              "[5408 rows x 3 columns]"
            ]
          },
          "metadata": {
            "tags": []
          },
          "execution_count": 6
        }
      ]
    },
    {
      "cell_type": "code",
      "metadata": {
        "colab": {
          "base_uri": "https://localhost:8080/",
          "height": 340
        },
        "id": "3IEnYd_-Im3a",
        "outputId": "9cb602f7-4b18-4d29-af73-83348fd7566b"
      },
      "source": [
        "def nova_coluna(lista_tags, dataframe, nome_tags):\n",
        "  for tag in lista_tags:\n",
        "    coluna = list()\n",
        "    for linha_tags in dataframe[nome_tags]:\n",
        "      if tag in linha_tag:\n",
        "        coluna.append(1)\n",
        "      else:\n",
        "        coluna.append(0)\n",
        "    dataframe[tag] = coluna\n",
        "nova_coluna(lista_de_tags, perguntas, \"Tags\")\n",
        "perguntas.sample(10)"
      ],
      "execution_count": 7,
      "outputs": [
        {
          "output_type": "execute_result",
          "data": {
            "text/html": [
              "<div>\n",
              "<style scoped>\n",
              "    .dataframe tbody tr th:only-of-type {\n",
              "        vertical-align: middle;\n",
              "    }\n",
              "\n",
              "    .dataframe tbody tr th {\n",
              "        vertical-align: top;\n",
              "    }\n",
              "\n",
              "    .dataframe thead th {\n",
              "        text-align: right;\n",
              "    }\n",
              "</style>\n",
              "<table border=\"1\" class=\"dataframe\">\n",
              "  <thead>\n",
              "    <tr style=\"text-align: right;\">\n",
              "      <th></th>\n",
              "      <th>Perguntas</th>\n",
              "      <th>Tags</th>\n",
              "      <th>node.js</th>\n",
              "      <th>jquery</th>\n",
              "      <th>html</th>\n",
              "      <th>angular</th>\n",
              "    </tr>\n",
              "  </thead>\n",
              "  <tbody>\n",
              "    <tr>\n",
              "      <th>1219</th>\n",
              "      <td>Usei o Bootstrap para inserir um spam escrito ...</td>\n",
              "      <td>jquery</td>\n",
              "      <td>0</td>\n",
              "      <td>1</td>\n",
              "      <td>1</td>\n",
              "      <td>0</td>\n",
              "    </tr>\n",
              "    <tr>\n",
              "      <th>1964</th>\n",
              "      <td>Desde que conheci o CakePHP me acostumei a pro...</td>\n",
              "      <td>node.js</td>\n",
              "      <td>0</td>\n",
              "      <td>1</td>\n",
              "      <td>1</td>\n",
              "      <td>0</td>\n",
              "    </tr>\n",
              "    <tr>\n",
              "      <th>5255</th>\n",
              "      <td>Tenho um select HTML e altero o valor de uma v...</td>\n",
              "      <td>html</td>\n",
              "      <td>0</td>\n",
              "      <td>1</td>\n",
              "      <td>1</td>\n",
              "      <td>0</td>\n",
              "    </tr>\n",
              "    <tr>\n",
              "      <th>2716</th>\n",
              "      <td>Galera é o seguinte, comecei um novo projeto e...</td>\n",
              "      <td>angular</td>\n",
              "      <td>0</td>\n",
              "      <td>1</td>\n",
              "      <td>1</td>\n",
              "      <td>0</td>\n",
              "    </tr>\n",
              "    <tr>\n",
              "      <th>1801</th>\n",
              "      <td>Tenho a seguinte estrutura:      CODE   CODE  ...</td>\n",
              "      <td>html</td>\n",
              "      <td>0</td>\n",
              "      <td>1</td>\n",
              "      <td>1</td>\n",
              "      <td>0</td>\n",
              "    </tr>\n",
              "    <tr>\n",
              "      <th>4645</th>\n",
              "      <td>O seguinte código funciona como a função ´setT...</td>\n",
              "      <td>html</td>\n",
              "      <td>0</td>\n",
              "      <td>1</td>\n",
              "      <td>1</td>\n",
              "      <td>0</td>\n",
              "    </tr>\n",
              "    <tr>\n",
              "      <th>3354</th>\n",
              "      <td>Estou tentando passar para o meu código javasc...</td>\n",
              "      <td>html</td>\n",
              "      <td>0</td>\n",
              "      <td>1</td>\n",
              "      <td>1</td>\n",
              "      <td>0</td>\n",
              "    </tr>\n",
              "    <tr>\n",
              "      <th>2468</th>\n",
              "      <td>Queria adicionar um banner lateral, que consoa...</td>\n",
              "      <td>html</td>\n",
              "      <td>0</td>\n",
              "      <td>1</td>\n",
              "      <td>1</td>\n",
              "      <td>0</td>\n",
              "    </tr>\n",
              "    <tr>\n",
              "      <th>1414</th>\n",
              "      <td>Imagina que eu tenho um CODE  para o número de...</td>\n",
              "      <td>html</td>\n",
              "      <td>0</td>\n",
              "      <td>1</td>\n",
              "      <td>1</td>\n",
              "      <td>0</td>\n",
              "    </tr>\n",
              "    <tr>\n",
              "      <th>2911</th>\n",
              "      <td>Antes de mais nada preciso informar a situação...</td>\n",
              "      <td>jquery</td>\n",
              "      <td>0</td>\n",
              "      <td>1</td>\n",
              "      <td>1</td>\n",
              "      <td>0</td>\n",
              "    </tr>\n",
              "  </tbody>\n",
              "</table>\n",
              "</div>"
            ],
            "text/plain": [
              "                                              Perguntas     Tags  ...  html  angular\n",
              "1219  Usei o Bootstrap para inserir um spam escrito ...   jquery  ...     1        0\n",
              "1964  Desde que conheci o CakePHP me acostumei a pro...  node.js  ...     1        0\n",
              "5255  Tenho um select HTML e altero o valor de uma v...     html  ...     1        0\n",
              "2716  Galera é o seguinte, comecei um novo projeto e...  angular  ...     1        0\n",
              "1801  Tenho a seguinte estrutura:      CODE   CODE  ...     html  ...     1        0\n",
              "4645  O seguinte código funciona como a função ´setT...     html  ...     1        0\n",
              "3354  Estou tentando passar para o meu código javasc...     html  ...     1        0\n",
              "2468  Queria adicionar um banner lateral, que consoa...    html   ...     1        0\n",
              "1414  Imagina que eu tenho um CODE  para o número de...    html   ...     1        0\n",
              "2911  Antes de mais nada preciso informar a situação...  jquery   ...     1        0\n",
              "\n",
              "[10 rows x 6 columns]"
            ]
          },
          "metadata": {
            "tags": []
          },
          "execution_count": 7
        }
      ]
    },
    {
      "cell_type": "markdown",
      "metadata": {
        "id": "Odi20u53NQpm"
      },
      "source": [
        "# **dividindo os dados em train_test_split**"
      ]
    },
    {
      "cell_type": "code",
      "metadata": {
        "id": "UbZSX3n1NeLY"
      },
      "source": [
        "from sklearn.model_selection import train_test_split\n",
        "#o train tes split tem que separar os dados de treino e os dados de teste\n",
        "perguntas_treino, perguntas_teste, tags_treino, tags_teste = train_test_split(\n",
        "    perguntas.Perguntas, \n",
        "    perguntas.Tags\n",
        ")"
      ],
      "execution_count": 8,
      "outputs": []
    },
    {
      "cell_type": "code",
      "metadata": {
        "colab": {
          "base_uri": "https://localhost:8080/"
        },
        "id": "jKZqVrCtbBUT",
        "outputId": "f3e55aed-a866-4b26-f5e6-a54e692194ac"
      },
      "source": [
        "#juntando elemento 1 da lista 1 e elemento 2 da lista 2, da mesma forma com a lista 2\n",
        "lista_1 = [1,2]\n",
        "lista_2 = [5,4]\n",
        "lista_zip = zip(lista_1, lista_2)\n",
        "print(list(lista_zip))"
      ],
      "execution_count": 10,
      "outputs": [
        {
          "output_type": "stream",
          "text": [
            "[(1, 5), (2, 4)]\n"
          ],
          "name": "stdout"
        }
      ]
    },
    {
      "cell_type": "code",
      "metadata": {
        "colab": {
          "base_uri": "https://localhost:8080/",
          "height": 340
        },
        "id": "_LtoeJxMbknI",
        "outputId": "cb38f9e1-6d2e-4fad-83d6-00fa688933a4"
      },
      "source": [
        "lista_zip_tags = list(zip(perguntas[lista_de_tags[0]],\n",
        "                          perguntas[lista_de_tags[1]],\n",
        "                          perguntas[lista_de_tags[2]],\n",
        "                          perguntas[lista_de_tags[3]]))\n",
        "perguntas[\"todas_tags\"] = lista_zip_tags\n",
        "perguntas.sample(10)"
      ],
      "execution_count": 11,
      "outputs": [
        {
          "output_type": "execute_result",
          "data": {
            "text/html": [
              "<div>\n",
              "<style scoped>\n",
              "    .dataframe tbody tr th:only-of-type {\n",
              "        vertical-align: middle;\n",
              "    }\n",
              "\n",
              "    .dataframe tbody tr th {\n",
              "        vertical-align: top;\n",
              "    }\n",
              "\n",
              "    .dataframe thead th {\n",
              "        text-align: right;\n",
              "    }\n",
              "</style>\n",
              "<table border=\"1\" class=\"dataframe\">\n",
              "  <thead>\n",
              "    <tr style=\"text-align: right;\">\n",
              "      <th></th>\n",
              "      <th>Perguntas</th>\n",
              "      <th>Tags</th>\n",
              "      <th>node.js</th>\n",
              "      <th>jquery</th>\n",
              "      <th>html</th>\n",
              "      <th>angular</th>\n",
              "      <th>todas_tags</th>\n",
              "    </tr>\n",
              "  </thead>\n",
              "  <tbody>\n",
              "    <tr>\n",
              "      <th>4506</th>\n",
              "      <td>Teria alguma forma de detectar o toque pressio...</td>\n",
              "      <td>jquery</td>\n",
              "      <td>0</td>\n",
              "      <td>1</td>\n",
              "      <td>1</td>\n",
              "      <td>0</td>\n",
              "      <td>(0, 1, 1, 0)</td>\n",
              "    </tr>\n",
              "    <tr>\n",
              "      <th>1138</th>\n",
              "      <td>Estou com uma duvida em um script onde estou f...</td>\n",
              "      <td>jquery</td>\n",
              "      <td>0</td>\n",
              "      <td>1</td>\n",
              "      <td>1</td>\n",
              "      <td>0</td>\n",
              "      <td>(0, 1, 1, 0)</td>\n",
              "    </tr>\n",
              "    <tr>\n",
              "      <th>3621</th>\n",
              "      <td>Olá tenho um backend em node e estou recebendo...</td>\n",
              "      <td>jquery node.js</td>\n",
              "      <td>0</td>\n",
              "      <td>1</td>\n",
              "      <td>1</td>\n",
              "      <td>0</td>\n",
              "      <td>(0, 1, 1, 0)</td>\n",
              "    </tr>\n",
              "    <tr>\n",
              "      <th>3001</th>\n",
              "      <td>JS  CODE   HTML  CODE   O que está acontecendo...</td>\n",
              "      <td>jquery html</td>\n",
              "      <td>0</td>\n",
              "      <td>1</td>\n",
              "      <td>1</td>\n",
              "      <td>0</td>\n",
              "      <td>(0, 1, 1, 0)</td>\n",
              "    </tr>\n",
              "    <tr>\n",
              "      <th>2288</th>\n",
              "      <td>tenho uma lista de itens e um campo de pesquis...</td>\n",
              "      <td>jquery html</td>\n",
              "      <td>0</td>\n",
              "      <td>1</td>\n",
              "      <td>1</td>\n",
              "      <td>0</td>\n",
              "      <td>(0, 1, 1, 0)</td>\n",
              "    </tr>\n",
              "    <tr>\n",
              "      <th>4515</th>\n",
              "      <td>Estou fazendo um cadastro de clientes e nele t...</td>\n",
              "      <td>html</td>\n",
              "      <td>0</td>\n",
              "      <td>1</td>\n",
              "      <td>1</td>\n",
              "      <td>0</td>\n",
              "      <td>(0, 1, 1, 0)</td>\n",
              "    </tr>\n",
              "    <tr>\n",
              "      <th>3779</th>\n",
              "      <td>Criei dois arquivo para testar o uso do MySQL ...</td>\n",
              "      <td>node.js</td>\n",
              "      <td>0</td>\n",
              "      <td>1</td>\n",
              "      <td>1</td>\n",
              "      <td>0</td>\n",
              "      <td>(0, 1, 1, 0)</td>\n",
              "    </tr>\n",
              "    <tr>\n",
              "      <th>4904</th>\n",
              "      <td>Tenho o seguinte repositório:   CODE   No meu ...</td>\n",
              "      <td>node.js</td>\n",
              "      <td>0</td>\n",
              "      <td>1</td>\n",
              "      <td>1</td>\n",
              "      <td>0</td>\n",
              "      <td>(0, 1, 1, 0)</td>\n",
              "    </tr>\n",
              "    <tr>\n",
              "      <th>824</th>\n",
              "      <td>eu estou com este código:      CODE   CODE    ...</td>\n",
              "      <td>html</td>\n",
              "      <td>0</td>\n",
              "      <td>1</td>\n",
              "      <td>1</td>\n",
              "      <td>0</td>\n",
              "      <td>(0, 1, 1, 0)</td>\n",
              "    </tr>\n",
              "    <tr>\n",
              "      <th>1895</th>\n",
              "      <td>Gostaria de fazer um filtro dentro do sub-menu...</td>\n",
              "      <td>jquery</td>\n",
              "      <td>0</td>\n",
              "      <td>1</td>\n",
              "      <td>1</td>\n",
              "      <td>0</td>\n",
              "      <td>(0, 1, 1, 0)</td>\n",
              "    </tr>\n",
              "  </tbody>\n",
              "</table>\n",
              "</div>"
            ],
            "text/plain": [
              "                                              Perguntas  ...    todas_tags\n",
              "4506  Teria alguma forma de detectar o toque pressio...  ...  (0, 1, 1, 0)\n",
              "1138  Estou com uma duvida em um script onde estou f...  ...  (0, 1, 1, 0)\n",
              "3621  Olá tenho um backend em node e estou recebendo...  ...  (0, 1, 1, 0)\n",
              "3001  JS  CODE   HTML  CODE   O que está acontecendo...  ...  (0, 1, 1, 0)\n",
              "2288  tenho uma lista de itens e um campo de pesquis...  ...  (0, 1, 1, 0)\n",
              "4515  Estou fazendo um cadastro de clientes e nele t...  ...  (0, 1, 1, 0)\n",
              "3779  Criei dois arquivo para testar o uso do MySQL ...  ...  (0, 1, 1, 0)\n",
              "4904  Tenho o seguinte repositório:   CODE   No meu ...  ...  (0, 1, 1, 0)\n",
              "824   eu estou com este código:      CODE   CODE    ...  ...  (0, 1, 1, 0)\n",
              "1895  Gostaria de fazer um filtro dentro do sub-menu...  ...  (0, 1, 1, 0)\n",
              "\n",
              "[10 rows x 7 columns]"
            ]
          },
          "metadata": {
            "tags": []
          },
          "execution_count": 11
        }
      ]
    },
    {
      "cell_type": "code",
      "metadata": {
        "id": "ZZlWiNe6c3aK"
      },
      "source": [
        "from sklearn.model_selection import train_test_split\n",
        "#o train tes split tem que separar os dados de treino e os dados de teste\n",
        "perguntas_treino, perguntas_teste, tags_treino, tags_teste = train_test_split(\n",
        "    perguntas.Perguntas, \n",
        "    perguntas.todas_tags,\n",
        "    test_size = 0.2,\n",
        "    random_state = 123\n",
        ")"
      ],
      "execution_count": 12,
      "outputs": []
    },
    {
      "cell_type": "code",
      "metadata": {
        "colab": {
          "base_uri": "https://localhost:8080/"
        },
        "id": "VEKnNrl8dIch",
        "outputId": "665ceadd-6f6a-4a8f-d9f6-9e30fb37a1dd"
      },
      "source": [
        "perguntas_treino"
      ],
      "execution_count": 13,
      "outputs": [
        {
          "output_type": "execute_result",
          "data": {
            "text/plain": [
              "1577       array1 = [1,2,3];   array2 = [\"um\",\"dois\",\"...\n",
              "1927    Não sei se fui claro no título, mas quem é da ...\n",
              "3409    Alguém sabe me dizer qual a melhor forma de re...\n",
              "4606    Estou com problemas ao tentar validar campos d...\n",
              "5237    Preciso copiar um valor de dentro de um CODE  ...\n",
              "                              ...                        \n",
              "5218    Tenho um sisteminha, para mudar o layout da pá...\n",
              "4060    Como fazer alto scoll ao carregar a página?  E...\n",
              "1346    Explicação:  Tenho uma CODE  pai que contém du...\n",
              "3454    Estou querendo fazer um sistema onde eu iria t...\n",
              "3582    Galera eu to com um problemão, ja pesquisei ba...\n",
              "Name: Perguntas, Length: 4326, dtype: object"
            ]
          },
          "metadata": {
            "tags": []
          },
          "execution_count": 13
        }
      ]
    },
    {
      "cell_type": "code",
      "metadata": {
        "colab": {
          "base_uri": "https://localhost:8080/"
        },
        "id": "qS-xDjNUdMxR",
        "outputId": "8a7f27bd-34e2-48cc-e2c6-815a4843e8ca"
      },
      "source": [
        "#TF-IDF: tecnica que da valores diferentes para as palavras\n",
        "from sklearn.feature_extraction.text import TfidfVectorizer\n",
        "\n",
        "vetorizar = TfidfVectorizer(max_features=5000, max_df=0.85)\n",
        "vetorizar"
      ],
      "execution_count": 14,
      "outputs": [
        {
          "output_type": "execute_result",
          "data": {
            "text/plain": [
              "TfidfVectorizer(analyzer='word', binary=False, decode_error='strict',\n",
              "                dtype=<class 'numpy.float64'>, encoding='utf-8',\n",
              "                input='content', lowercase=True, max_df=0.85, max_features=5000,\n",
              "                min_df=1, ngram_range=(1, 1), norm='l2', preprocessor=None,\n",
              "                smooth_idf=True, stop_words=None, strip_accents=None,\n",
              "                sublinear_tf=False, token_pattern='(?u)\\\\b\\\\w\\\\w+\\\\b',\n",
              "                tokenizer=None, use_idf=True, vocabulary=None)"
            ]
          },
          "metadata": {
            "tags": []
          },
          "execution_count": 14
        }
      ]
    },
    {
      "cell_type": "code",
      "metadata": {
        "colab": {
          "base_uri": "https://localhost:8080/"
        },
        "id": "ynVoP5kHewk7",
        "outputId": "85088cdb-16f0-4741-fbd1-f7a22c531461"
      },
      "source": [
        "vetorizar.fit(perguntas.Perguntas)\n",
        "perguntas_treino_tfidf = vetorizar.transform(perguntas_treino)\n",
        "perguntas_teste_tfidf = vetorizar.transform(perguntas_teste)\n",
        "\n",
        "print(perguntas_treino_tfidf.shape)\n",
        "print(perguntas_teste_tfidf.shape)\n"
      ],
      "execution_count": 15,
      "outputs": [
        {
          "output_type": "stream",
          "text": [
            "(4326, 5000)\n",
            "(1082, 5000)\n"
          ],
          "name": "stdout"
        }
      ]
    },
    {
      "cell_type": "markdown",
      "metadata": {
        "id": "OAlKXo3V9V7D"
      },
      "source": [
        ""
      ]
    },
    {
      "cell_type": "code",
      "metadata": {
        "id": "iD8Z10OzfS2I"
      },
      "source": [
        ""
      ],
      "execution_count": null,
      "outputs": []
    }
  ]
}