{
  "nbformat": 4,
  "nbformat_minor": 0,
  "metadata": {
    "colab": {
      "name": "Aula_7_Knn.ipynb",
      "provenance": [],
      "collapsed_sections": []
    },
    "kernelspec": {
      "name": "python3",
      "display_name": "Python 3"
    }
  },
  "cells": [
    {
      "cell_type": "code",
      "metadata": {
        "id": "Q96J17TwzgwH",
        "colab": {
          "base_uri": "https://localhost:8080/",
          "height": 340
        },
        "outputId": "3b69c2a6-b391-4c17-f3a8-77eef9a36cb6"
      },
      "source": [
        "import pandas as pd\n",
        "\n",
        "perguntas = pd.read_csv(\"stackoverflow_perguntas.csv\")\n",
        "perguntas.sample(10)"
      ],
      "execution_count": 2,
      "outputs": [
        {
          "output_type": "execute_result",
          "data": {
            "text/html": [
              "<div>\n",
              "<style scoped>\n",
              "    .dataframe tbody tr th:only-of-type {\n",
              "        vertical-align: middle;\n",
              "    }\n",
              "\n",
              "    .dataframe tbody tr th {\n",
              "        vertical-align: top;\n",
              "    }\n",
              "\n",
              "    .dataframe thead th {\n",
              "        text-align: right;\n",
              "    }\n",
              "</style>\n",
              "<table border=\"1\" class=\"dataframe\">\n",
              "  <thead>\n",
              "    <tr style=\"text-align: right;\">\n",
              "      <th></th>\n",
              "      <th>Perguntas</th>\n",
              "      <th>Tags</th>\n",
              "    </tr>\n",
              "  </thead>\n",
              "  <tbody>\n",
              "    <tr>\n",
              "      <th>2660</th>\n",
              "      <td>Oque é, pra que serve e como funciona o expres...</td>\n",
              "      <td>angular</td>\n",
              "    </tr>\n",
              "    <tr>\n",
              "      <th>1761</th>\n",
              "      <td>Estou desenvolvendo uma área onde o aluno se c...</td>\n",
              "      <td>jquery</td>\n",
              "    </tr>\n",
              "    <tr>\n",
              "      <th>713</th>\n",
              "      <td>tenho um select2 que é populado do banco de da...</td>\n",
              "      <td>jquery html angular</td>\n",
              "    </tr>\n",
              "    <tr>\n",
              "      <th>4016</th>\n",
              "      <td>Criei um CODE  usando o CODE . Funciona da seg...</td>\n",
              "      <td>angular</td>\n",
              "    </tr>\n",
              "    <tr>\n",
              "      <th>4459</th>\n",
              "      <td>Estou utilizando um webService (viaCep) para p...</td>\n",
              "      <td>jquery html angular</td>\n",
              "    </tr>\n",
              "    <tr>\n",
              "      <th>696</th>\n",
              "      <td>Como é que posso remover uma linha de uma tabe...</td>\n",
              "      <td>html</td>\n",
              "    </tr>\n",
              "    <tr>\n",
              "      <th>3303</th>\n",
              "      <td>Queria saber como eu faço para concatenar um l...</td>\n",
              "      <td>html</td>\n",
              "    </tr>\n",
              "    <tr>\n",
              "      <th>4865</th>\n",
              "      <td>Estou desenvolvendo uma mini loja. Gostaria de...</td>\n",
              "      <td>html</td>\n",
              "    </tr>\n",
              "    <tr>\n",
              "      <th>55</th>\n",
              "      <td>Quais a melhores ferramentas para serem utiliz...</td>\n",
              "      <td>node.js</td>\n",
              "    </tr>\n",
              "    <tr>\n",
              "      <th>573</th>\n",
              "      <td>Estou armazenando alguns dados no localstorage...</td>\n",
              "      <td>html</td>\n",
              "    </tr>\n",
              "  </tbody>\n",
              "</table>\n",
              "</div>"
            ],
            "text/plain": [
              "                                              Perguntas                 Tags\n",
              "2660  Oque é, pra que serve e como funciona o expres...              angular\n",
              "1761  Estou desenvolvendo uma área onde o aluno se c...               jquery\n",
              "713   tenho um select2 que é populado do banco de da...  jquery html angular\n",
              "4016  Criei um CODE  usando o CODE . Funciona da seg...             angular \n",
              "4459  Estou utilizando um webService (viaCep) para p...  jquery html angular\n",
              "696   Como é que posso remover uma linha de uma tabe...                 html\n",
              "3303  Queria saber como eu faço para concatenar um l...                 html\n",
              "4865  Estou desenvolvendo uma mini loja. Gostaria de...                html \n",
              "55    Quais a melhores ferramentas para serem utiliz...              node.js\n",
              "573   Estou armazenando alguns dados no localstorage...                 html"
            ]
          },
          "metadata": {
            "tags": []
          },
          "execution_count": 2
        }
      ]
    },
    {
      "cell_type": "code",
      "metadata": {
        "id": "63jQ1Adf0JRC",
        "colab": {
          "base_uri": "https://localhost:8080/"
        },
        "outputId": "39ab034c-6fd8-47ca-a42a-e16a344a86ce"
      },
      "source": [
        "print(len(perguntas))"
      ],
      "execution_count": 3,
      "outputs": [
        {
          "output_type": "stream",
          "text": [
            "5408\n"
          ],
          "name": "stdout"
        }
      ]
    },
    {
      "cell_type": "code",
      "metadata": {
        "id": "ixuDmW6H9mTv",
        "colab": {
          "base_uri": "https://localhost:8080/"
        },
        "outputId": "3c199821-2452-4929-eff8-9ec4e7f9b045"
      },
      "source": [
        "perguntas.Tags.unique()"
      ],
      "execution_count": 4,
      "outputs": [
        {
          "output_type": "execute_result",
          "data": {
            "text/plain": [
              "array(['node.js', 'jquery', 'html', 'html angular ', 'html ', 'angular',\n",
              "       'angular ', 'jquery html  ', 'jquery ', 'jquery html',\n",
              "       'jquery html ', 'html angular', 'angular node.js ', 'html  ',\n",
              "       'jquery html angular', 'node.js ', 'html jquery', 'html jquery ',\n",
              "       'jquery angular  ', 'html node.js', 'jquery  ', 'angular node.js',\n",
              "       'jquery angular', 'html node.js ', 'jquery node.js ', 'angular  ',\n",
              "       'jquery angular ', 'jquery html angular ', 'node.js html ',\n",
              "       ' node.js', 'node.js html', 'html angular  ', 'jquery node.js',\n",
              "       'angular html', 'html angular  node.js', 'jquery html node.js',\n",
              "       'html angular node.js'], dtype=object)"
            ]
          },
          "metadata": {
            "tags": []
          },
          "execution_count": 4
        }
      ]
    },
    {
      "cell_type": "code",
      "metadata": {
        "id": "w3XxtKpAE_v-",
        "colab": {
          "base_uri": "https://localhost:8080/"
        },
        "outputId": "33c5d392-1d91-4cfa-b7ec-16433e34c710"
      },
      "source": [
        "lista_de_tags = list()\n",
        "for tags in perguntas.Tags.unique():\n",
        "    for tag in tags.split():\n",
        "        if tag not in lista_de_tags:\n",
        "            lista_de_tags.append(tag)\n",
        "        \n",
        "print(lista_de_tags)"
      ],
      "execution_count": 5,
      "outputs": [
        {
          "output_type": "stream",
          "text": [
            "['node.js', 'jquery', 'html', 'angular']\n"
          ],
          "name": "stdout"
        }
      ]
    },
    {
      "cell_type": "code",
      "metadata": {
        "id": "l_FtnocJeVIv",
        "colab": {
          "base_uri": "https://localhost:8080/",
          "height": 399
        },
        "outputId": "6aa051d6-a6c6-4c4c-f785-323ef5e43f40"
      },
      "source": [
        "node_js = list()\n",
        "for linha_tag in perguntas.Tags:\n",
        "    if \"node.js\" in linha_tag:\n",
        "        node_js.append(1)\n",
        "    else:\n",
        "        node_js.append(0)\n",
        "perguntas[\"node.js\"] = node_js\n",
        "perguntas"
      ],
      "execution_count": 6,
      "outputs": [
        {
          "output_type": "execute_result",
          "data": {
            "text/html": [
              "<div>\n",
              "<style scoped>\n",
              "    .dataframe tbody tr th:only-of-type {\n",
              "        vertical-align: middle;\n",
              "    }\n",
              "\n",
              "    .dataframe tbody tr th {\n",
              "        vertical-align: top;\n",
              "    }\n",
              "\n",
              "    .dataframe thead th {\n",
              "        text-align: right;\n",
              "    }\n",
              "</style>\n",
              "<table border=\"1\" class=\"dataframe\">\n",
              "  <thead>\n",
              "    <tr style=\"text-align: right;\">\n",
              "      <th></th>\n",
              "      <th>Perguntas</th>\n",
              "      <th>Tags</th>\n",
              "      <th>node.js</th>\n",
              "    </tr>\n",
              "  </thead>\n",
              "  <tbody>\n",
              "    <tr>\n",
              "      <th>0</th>\n",
              "      <td>Possuo um projeto Node.js porém preciso criar ...</td>\n",
              "      <td>node.js</td>\n",
              "      <td>1</td>\n",
              "    </tr>\n",
              "    <tr>\n",
              "      <th>1</th>\n",
              "      <td>Gostaria de fazer testes unitários no Node.js,...</td>\n",
              "      <td>node.js</td>\n",
              "      <td>1</td>\n",
              "    </tr>\n",
              "    <tr>\n",
              "      <th>2</th>\n",
              "      <td>Como inverter a ordem com que o jQuery itera u...</td>\n",
              "      <td>jquery</td>\n",
              "      <td>0</td>\n",
              "    </tr>\n",
              "    <tr>\n",
              "      <th>3</th>\n",
              "      <td>Eu tenho uma página onde pretendo utilizar um ...</td>\n",
              "      <td>html</td>\n",
              "      <td>0</td>\n",
              "    </tr>\n",
              "    <tr>\n",
              "      <th>4</th>\n",
              "      <td>Como exibir os dados retornados do FireStore e...</td>\n",
              "      <td>html angular</td>\n",
              "      <td>0</td>\n",
              "    </tr>\n",
              "    <tr>\n",
              "      <th>...</th>\n",
              "      <td>...</td>\n",
              "      <td>...</td>\n",
              "      <td>...</td>\n",
              "    </tr>\n",
              "    <tr>\n",
              "      <th>5403</th>\n",
              "      <td>Queria saber como pegar o total de cores de um...</td>\n",
              "      <td>jquery html</td>\n",
              "      <td>0</td>\n",
              "    </tr>\n",
              "    <tr>\n",
              "      <th>5404</th>\n",
              "      <td>Boa noite, estou usando phonegap para fazer um...</td>\n",
              "      <td>html</td>\n",
              "      <td>0</td>\n",
              "    </tr>\n",
              "    <tr>\n",
              "      <th>5405</th>\n",
              "      <td>Estou construindo um mini fórum, e nele, os us...</td>\n",
              "      <td>jquery html</td>\n",
              "      <td>0</td>\n",
              "    </tr>\n",
              "    <tr>\n",
              "      <th>5406</th>\n",
              "      <td>Boa tarde,  Estou para desenvolver um site na ...</td>\n",
              "      <td>html</td>\n",
              "      <td>0</td>\n",
              "    </tr>\n",
              "    <tr>\n",
              "      <th>5407</th>\n",
              "      <td>Estou fazendo um hotsite, ele é one page, e é ...</td>\n",
              "      <td>jquery html</td>\n",
              "      <td>0</td>\n",
              "    </tr>\n",
              "  </tbody>\n",
              "</table>\n",
              "<p>5408 rows × 3 columns</p>\n",
              "</div>"
            ],
            "text/plain": [
              "                                              Perguntas           Tags  node.js\n",
              "0     Possuo um projeto Node.js porém preciso criar ...        node.js        1\n",
              "1     Gostaria de fazer testes unitários no Node.js,...        node.js        1\n",
              "2     Como inverter a ordem com que o jQuery itera u...         jquery        0\n",
              "3     Eu tenho uma página onde pretendo utilizar um ...           html        0\n",
              "4     Como exibir os dados retornados do FireStore e...  html angular         0\n",
              "...                                                 ...            ...      ...\n",
              "5403  Queria saber como pegar o total de cores de um...   jquery html         0\n",
              "5404  Boa noite, estou usando phonegap para fazer um...          html         0\n",
              "5405  Estou construindo um mini fórum, e nele, os us...    jquery html        0\n",
              "5406  Boa tarde,  Estou para desenvolver um site na ...           html        0\n",
              "5407  Estou fazendo um hotsite, ele é one page, e é ...    jquery html        0\n",
              "\n",
              "[5408 rows x 3 columns]"
            ]
          },
          "metadata": {
            "tags": []
          },
          "execution_count": 6
        }
      ]
    },
    {
      "cell_type": "code",
      "metadata": {
        "id": "Qbdw-od-kvvq",
        "colab": {
          "base_uri": "https://localhost:8080/",
          "height": 391
        },
        "outputId": "a517361e-ab3a-4af5-b6e3-e9b09e9f2ffa"
      },
      "source": [
        "def nova_coluna(lista_tags, dataframe, nome_tags):\n",
        "    for tag in lista_tags:\n",
        "        coluna = list()\n",
        "        for linha_tag in dataframe[nome_tags]:\n",
        "            if tag in linha_tag:\n",
        "                coluna.append(1)\n",
        "            else:\n",
        "                coluna.append(0)\n",
        "        dataframe[tag] = coluna\n",
        "nova_coluna(lista_de_tags, perguntas, \"Tags\")\n",
        "perguntas.sample(10)"
      ],
      "execution_count": 7,
      "outputs": [
        {
          "output_type": "execute_result",
          "data": {
            "text/html": [
              "<div>\n",
              "<style scoped>\n",
              "    .dataframe tbody tr th:only-of-type {\n",
              "        vertical-align: middle;\n",
              "    }\n",
              "\n",
              "    .dataframe tbody tr th {\n",
              "        vertical-align: top;\n",
              "    }\n",
              "\n",
              "    .dataframe thead th {\n",
              "        text-align: right;\n",
              "    }\n",
              "</style>\n",
              "<table border=\"1\" class=\"dataframe\">\n",
              "  <thead>\n",
              "    <tr style=\"text-align: right;\">\n",
              "      <th></th>\n",
              "      <th>Perguntas</th>\n",
              "      <th>Tags</th>\n",
              "      <th>node.js</th>\n",
              "      <th>jquery</th>\n",
              "      <th>html</th>\n",
              "      <th>angular</th>\n",
              "    </tr>\n",
              "  </thead>\n",
              "  <tbody>\n",
              "    <tr>\n",
              "      <th>3845</th>\n",
              "      <td>Na função success não estou conseguindo setar ...</td>\n",
              "      <td>jquery</td>\n",
              "      <td>0</td>\n",
              "      <td>1</td>\n",
              "      <td>0</td>\n",
              "      <td>0</td>\n",
              "    </tr>\n",
              "    <tr>\n",
              "      <th>2620</th>\n",
              "      <td>Galera teria como por meio de algum javascript...</td>\n",
              "      <td>jquery html</td>\n",
              "      <td>0</td>\n",
              "      <td>1</td>\n",
              "      <td>1</td>\n",
              "      <td>0</td>\n",
              "    </tr>\n",
              "    <tr>\n",
              "      <th>2190</th>\n",
              "      <td>Estou a fazer a seguinte operação:  Pego o tex...</td>\n",
              "      <td>html angular</td>\n",
              "      <td>0</td>\n",
              "      <td>0</td>\n",
              "      <td>1</td>\n",
              "      <td>1</td>\n",
              "    </tr>\n",
              "    <tr>\n",
              "      <th>1474</th>\n",
              "      <td>Estou começando a realizar projetos com o node...</td>\n",
              "      <td>node.js</td>\n",
              "      <td>1</td>\n",
              "      <td>0</td>\n",
              "      <td>0</td>\n",
              "      <td>0</td>\n",
              "    </tr>\n",
              "    <tr>\n",
              "      <th>1289</th>\n",
              "      <td>Tentei vários tutoriais na internet antes de v...</td>\n",
              "      <td>node.js</td>\n",
              "      <td>1</td>\n",
              "      <td>0</td>\n",
              "      <td>0</td>\n",
              "      <td>0</td>\n",
              "    </tr>\n",
              "    <tr>\n",
              "      <th>5393</th>\n",
              "      <td>Tenho um script em CODE  que pega o CODE  de u...</td>\n",
              "      <td>node.js</td>\n",
              "      <td>1</td>\n",
              "      <td>0</td>\n",
              "      <td>0</td>\n",
              "      <td>0</td>\n",
              "    </tr>\n",
              "    <tr>\n",
              "      <th>1882</th>\n",
              "      <td>Estou tentando ler um arquivo .txt de 3.5GB li...</td>\n",
              "      <td>node.js</td>\n",
              "      <td>1</td>\n",
              "      <td>0</td>\n",
              "      <td>0</td>\n",
              "      <td>0</td>\n",
              "    </tr>\n",
              "    <tr>\n",
              "      <th>4377</th>\n",
              "      <td>Estou com um dúvida sobre como um servidor nod...</td>\n",
              "      <td>node.js</td>\n",
              "      <td>1</td>\n",
              "      <td>0</td>\n",
              "      <td>0</td>\n",
              "      <td>0</td>\n",
              "    </tr>\n",
              "    <tr>\n",
              "      <th>1201</th>\n",
              "      <td>Defini diversos DataAnnotations para o modelo ...</td>\n",
              "      <td>jquery</td>\n",
              "      <td>0</td>\n",
              "      <td>1</td>\n",
              "      <td>0</td>\n",
              "      <td>0</td>\n",
              "    </tr>\n",
              "    <tr>\n",
              "      <th>4175</th>\n",
              "      <td>Olá,  Podem me dizer por favor onde está o err...</td>\n",
              "      <td>node.js</td>\n",
              "      <td>1</td>\n",
              "      <td>0</td>\n",
              "      <td>0</td>\n",
              "      <td>0</td>\n",
              "    </tr>\n",
              "  </tbody>\n",
              "</table>\n",
              "</div>"
            ],
            "text/plain": [
              "                                              Perguntas  ... angular\n",
              "3845  Na função success não estou conseguindo setar ...  ...       0\n",
              "2620  Galera teria como por meio de algum javascript...  ...       0\n",
              "2190  Estou a fazer a seguinte operação:  Pego o tex...  ...       1\n",
              "1474  Estou começando a realizar projetos com o node...  ...       0\n",
              "1289  Tentei vários tutoriais na internet antes de v...  ...       0\n",
              "5393  Tenho um script em CODE  que pega o CODE  de u...  ...       0\n",
              "1882  Estou tentando ler um arquivo .txt de 3.5GB li...  ...       0\n",
              "4377  Estou com um dúvida sobre como um servidor nod...  ...       0\n",
              "1201  Defini diversos DataAnnotations para o modelo ...  ...       0\n",
              "4175  Olá,  Podem me dizer por favor onde está o err...  ...       0\n",
              "\n",
              "[10 rows x 6 columns]"
            ]
          },
          "metadata": {
            "tags": []
          },
          "execution_count": 7
        }
      ]
    },
    {
      "cell_type": "code",
      "metadata": {
        "id": "VVrQgRWOmcKJ",
        "colab": {
          "base_uri": "https://localhost:8080/",
          "height": 381
        },
        "outputId": "a1323c50-b047-4c98-c09f-024f1612f23c"
      },
      "source": [
        "\n",
        "from sklearn.model_selection import train_test_split\n",
        "\n",
        "perguntas_treino, perguntas_test, tags_treino, tags_teste = train_test_split(\n",
        "    perguntas.Peguntas,\n",
        "    perguntas.Tags\n",
        ")"
      ],
      "execution_count": 9,
      "outputs": [
        {
          "output_type": "error",
          "ename": "AttributeError",
          "evalue": "ignored",
          "traceback": [
            "\u001b[0;31m---------------------------------------------------------------------------\u001b[0m",
            "\u001b[0;31mAttributeError\u001b[0m                            Traceback (most recent call last)",
            "\u001b[0;32m<ipython-input-9-cb7c0fd8ee76>\u001b[0m in \u001b[0;36m<module>\u001b[0;34m()\u001b[0m\n\u001b[1;32m      3\u001b[0m \u001b[0;34m\u001b[0m\u001b[0m\n\u001b[1;32m      4\u001b[0m perguntas_treino, perguntas_test, tags_treino, tags_teste = train_test_split(\n\u001b[0;32m----> 5\u001b[0;31m     \u001b[0mperguntas\u001b[0m\u001b[0;34m.\u001b[0m\u001b[0mPeguntas\u001b[0m\u001b[0;34m,\u001b[0m\u001b[0;34m\u001b[0m\u001b[0;34m\u001b[0m\u001b[0m\n\u001b[0m\u001b[1;32m      6\u001b[0m     \u001b[0mperguntas\u001b[0m\u001b[0;34m.\u001b[0m\u001b[0mTags\u001b[0m\u001b[0;34m\u001b[0m\u001b[0;34m\u001b[0m\u001b[0m\n\u001b[1;32m      7\u001b[0m )\n",
            "\u001b[0;32m/usr/local/lib/python3.7/dist-packages/pandas/core/generic.py\u001b[0m in \u001b[0;36m__getattr__\u001b[0;34m(self, name)\u001b[0m\n\u001b[1;32m   5139\u001b[0m             \u001b[0;32mif\u001b[0m \u001b[0mself\u001b[0m\u001b[0;34m.\u001b[0m\u001b[0m_info_axis\u001b[0m\u001b[0;34m.\u001b[0m\u001b[0m_can_hold_identifiers_and_holds_name\u001b[0m\u001b[0;34m(\u001b[0m\u001b[0mname\u001b[0m\u001b[0;34m)\u001b[0m\u001b[0;34m:\u001b[0m\u001b[0;34m\u001b[0m\u001b[0;34m\u001b[0m\u001b[0m\n\u001b[1;32m   5140\u001b[0m                 \u001b[0;32mreturn\u001b[0m \u001b[0mself\u001b[0m\u001b[0;34m[\u001b[0m\u001b[0mname\u001b[0m\u001b[0;34m]\u001b[0m\u001b[0;34m\u001b[0m\u001b[0;34m\u001b[0m\u001b[0m\n\u001b[0;32m-> 5141\u001b[0;31m             \u001b[0;32mreturn\u001b[0m \u001b[0mobject\u001b[0m\u001b[0;34m.\u001b[0m\u001b[0m__getattribute__\u001b[0m\u001b[0;34m(\u001b[0m\u001b[0mself\u001b[0m\u001b[0;34m,\u001b[0m \u001b[0mname\u001b[0m\u001b[0;34m)\u001b[0m\u001b[0;34m\u001b[0m\u001b[0;34m\u001b[0m\u001b[0m\n\u001b[0m\u001b[1;32m   5142\u001b[0m \u001b[0;34m\u001b[0m\u001b[0m\n\u001b[1;32m   5143\u001b[0m     \u001b[0;32mdef\u001b[0m \u001b[0m__setattr__\u001b[0m\u001b[0;34m(\u001b[0m\u001b[0mself\u001b[0m\u001b[0;34m,\u001b[0m \u001b[0mname\u001b[0m\u001b[0;34m:\u001b[0m \u001b[0mstr\u001b[0m\u001b[0;34m,\u001b[0m \u001b[0mvalue\u001b[0m\u001b[0;34m)\u001b[0m \u001b[0;34m->\u001b[0m \u001b[0;32mNone\u001b[0m\u001b[0;34m:\u001b[0m\u001b[0;34m\u001b[0m\u001b[0;34m\u001b[0m\u001b[0m\n",
            "\u001b[0;31mAttributeError\u001b[0m: 'DataFrame' object has no attribute 'Peguntas'"
          ]
        }
      ]
    },
    {
      "cell_type": "code",
      "metadata": {
        "id": "D559gY9864G9",
        "colab": {
          "base_uri": "https://localhost:8080/"
        },
        "outputId": "a88f1148-68da-45ed-8758-13617710c98b"
      },
      "source": [
        "lista_1 = [1,2]\n",
        "lista_2 = [5,4]\n",
        "lista_zip = zip(lista_1, lista_2)\n",
        "print(list(lista_zip))"
      ],
      "execution_count": 10,
      "outputs": [
        {
          "output_type": "stream",
          "text": [
            "[(1, 5), (2, 4)]\n"
          ],
          "name": "stdout"
        }
      ]
    },
    {
      "cell_type": "code",
      "metadata": {
        "id": "UUb4OgID8Gk_",
        "colab": {
          "base_uri": "https://localhost:8080/",
          "height": 509
        },
        "outputId": "cde4aa1c-22c3-42a8-f00a-2bb3fb51bf67"
      },
      "source": [
        "lista_zip_tags = list(zip(perguntas[lista_de_tags[0]],\n",
        "                     perguntas[lista_de_tags[1]],\n",
        "                     perguntas[lista_de_tags[2]],\n",
        "                     perguntas[lista_de_tags[3]]))\n",
        "\n",
        "perguntas[\"todas_tags\"] = lista_zip_tags\n",
        "perguntas.sample(10)"
      ],
      "execution_count": 11,
      "outputs": [
        {
          "output_type": "execute_result",
          "data": {
            "text/html": [
              "<div>\n",
              "<style scoped>\n",
              "    .dataframe tbody tr th:only-of-type {\n",
              "        vertical-align: middle;\n",
              "    }\n",
              "\n",
              "    .dataframe tbody tr th {\n",
              "        vertical-align: top;\n",
              "    }\n",
              "\n",
              "    .dataframe thead th {\n",
              "        text-align: right;\n",
              "    }\n",
              "</style>\n",
              "<table border=\"1\" class=\"dataframe\">\n",
              "  <thead>\n",
              "    <tr style=\"text-align: right;\">\n",
              "      <th></th>\n",
              "      <th>Perguntas</th>\n",
              "      <th>Tags</th>\n",
              "      <th>node.js</th>\n",
              "      <th>jquery</th>\n",
              "      <th>html</th>\n",
              "      <th>angular</th>\n",
              "      <th>todas_tags</th>\n",
              "    </tr>\n",
              "  </thead>\n",
              "  <tbody>\n",
              "    <tr>\n",
              "      <th>2982</th>\n",
              "      <td>Ao clicar em um botão, preciso que carregue mi...</td>\n",
              "      <td>jquery</td>\n",
              "      <td>0</td>\n",
              "      <td>1</td>\n",
              "      <td>0</td>\n",
              "      <td>0</td>\n",
              "      <td>(0, 1, 0, 0)</td>\n",
              "    </tr>\n",
              "    <tr>\n",
              "      <th>4231</th>\n",
              "      <td>Tenho um gráfico que é criado conforme o ano, ...</td>\n",
              "      <td>jquery</td>\n",
              "      <td>0</td>\n",
              "      <td>1</td>\n",
              "      <td>0</td>\n",
              "      <td>0</td>\n",
              "      <td>(0, 1, 0, 0)</td>\n",
              "    </tr>\n",
              "    <tr>\n",
              "      <th>2830</th>\n",
              "      <td>A ideia é fazer com que ao chamar uma diretiva...</td>\n",
              "      <td>angular</td>\n",
              "      <td>0</td>\n",
              "      <td>0</td>\n",
              "      <td>0</td>\n",
              "      <td>1</td>\n",
              "      <td>(0, 0, 0, 1)</td>\n",
              "    </tr>\n",
              "    <tr>\n",
              "      <th>1455</th>\n",
              "      <td>Como faço para importar esse DASHBOARD feito e...</td>\n",
              "      <td>html</td>\n",
              "      <td>0</td>\n",
              "      <td>0</td>\n",
              "      <td>1</td>\n",
              "      <td>0</td>\n",
              "      <td>(0, 0, 1, 0)</td>\n",
              "    </tr>\n",
              "    <tr>\n",
              "      <th>1260</th>\n",
              "      <td>Atualmente estou utilizando ajax fazendo vária...</td>\n",
              "      <td>jquery</td>\n",
              "      <td>0</td>\n",
              "      <td>1</td>\n",
              "      <td>0</td>\n",
              "      <td>0</td>\n",
              "      <td>(0, 1, 0, 0)</td>\n",
              "    </tr>\n",
              "    <tr>\n",
              "      <th>4405</th>\n",
              "      <td>Olá!  Eu criei um aplicativo em HTML5 + JQuery...</td>\n",
              "      <td>html</td>\n",
              "      <td>0</td>\n",
              "      <td>0</td>\n",
              "      <td>1</td>\n",
              "      <td>0</td>\n",
              "      <td>(0, 0, 1, 0)</td>\n",
              "    </tr>\n",
              "    <tr>\n",
              "      <th>1771</th>\n",
              "      <td>Tenho meus elementos  em um texto.  CODE   e e...</td>\n",
              "      <td>html</td>\n",
              "      <td>0</td>\n",
              "      <td>0</td>\n",
              "      <td>1</td>\n",
              "      <td>0</td>\n",
              "      <td>(0, 0, 1, 0)</td>\n",
              "    </tr>\n",
              "    <tr>\n",
              "      <th>1650</th>\n",
              "      <td>usei muito javascript/jquery para montar um pr...</td>\n",
              "      <td>jquery</td>\n",
              "      <td>0</td>\n",
              "      <td>1</td>\n",
              "      <td>0</td>\n",
              "      <td>0</td>\n",
              "      <td>(0, 1, 0, 0)</td>\n",
              "    </tr>\n",
              "    <tr>\n",
              "      <th>5397</th>\n",
              "      <td>Preciso pegar a data atual e somar dias de aco...</td>\n",
              "      <td>html</td>\n",
              "      <td>0</td>\n",
              "      <td>0</td>\n",
              "      <td>1</td>\n",
              "      <td>0</td>\n",
              "      <td>(0, 0, 1, 0)</td>\n",
              "    </tr>\n",
              "    <tr>\n",
              "      <th>4612</th>\n",
              "      <td>Eu estou tentando desabilitar um modal do boot...</td>\n",
              "      <td>html</td>\n",
              "      <td>0</td>\n",
              "      <td>0</td>\n",
              "      <td>1</td>\n",
              "      <td>0</td>\n",
              "      <td>(0, 0, 1, 0)</td>\n",
              "    </tr>\n",
              "  </tbody>\n",
              "</table>\n",
              "</div>"
            ],
            "text/plain": [
              "                                              Perguntas  ...    todas_tags\n",
              "2982  Ao clicar em um botão, preciso que carregue mi...  ...  (0, 1, 0, 0)\n",
              "4231  Tenho um gráfico que é criado conforme o ano, ...  ...  (0, 1, 0, 0)\n",
              "2830  A ideia é fazer com que ao chamar uma diretiva...  ...  (0, 0, 0, 1)\n",
              "1455  Como faço para importar esse DASHBOARD feito e...  ...  (0, 0, 1, 0)\n",
              "1260  Atualmente estou utilizando ajax fazendo vária...  ...  (0, 1, 0, 0)\n",
              "4405  Olá!  Eu criei um aplicativo em HTML5 + JQuery...  ...  (0, 0, 1, 0)\n",
              "1771  Tenho meus elementos  em um texto.  CODE   e e...  ...  (0, 0, 1, 0)\n",
              "1650  usei muito javascript/jquery para montar um pr...  ...  (0, 1, 0, 0)\n",
              "5397  Preciso pegar a data atual e somar dias de aco...  ...  (0, 0, 1, 0)\n",
              "4612  Eu estou tentando desabilitar um modal do boot...  ...  (0, 0, 1, 0)\n",
              "\n",
              "[10 rows x 7 columns]"
            ]
          },
          "metadata": {
            "tags": []
          },
          "execution_count": 11
        }
      ]
    },
    {
      "cell_type": "code",
      "metadata": {
        "id": "gfeuZ3qy9vUD",
        "colab": {
          "base_uri": "https://localhost:8080/"
        },
        "outputId": "937eac94-58c9-43dd-9488-48d7d23864b5"
      },
      "source": [
        "lista_de_tags"
      ],
      "execution_count": 12,
      "outputs": [
        {
          "output_type": "execute_result",
          "data": {
            "text/plain": [
              "['node.js', 'jquery', 'html', 'angular']"
            ]
          },
          "metadata": {
            "tags": []
          },
          "execution_count": 12
        }
      ]
    },
    {
      "cell_type": "code",
      "metadata": {
        "id": "pWhQ9JVr9wvU"
      },
      "source": [
        "from sklearn.model_selection import train_test_split\n",
        "\n",
        "perguntas_treino, perguntas_test, tags_treino, tags_teste = train_test_split(\n",
        "    perguntas.Perguntas,\n",
        "    perguntas.todas_tags,\n",
        "    test_size = 0.2,\n",
        "    random_state = 123\n",
        ")"
      ],
      "execution_count": 13,
      "outputs": []
    },
    {
      "cell_type": "code",
      "metadata": {
        "id": "Ybd92zs5DOAG",
        "colab": {
          "base_uri": "https://localhost:8080/"
        },
        "outputId": "1cbee14c-6953-46c9-ad8b-93059e0a0a40"
      },
      "source": [
        "perguntas_treino"
      ],
      "execution_count": 14,
      "outputs": [
        {
          "output_type": "execute_result",
          "data": {
            "text/plain": [
              "1577       array1 = [1,2,3];   array2 = [\"um\",\"dois\",\"...\n",
              "1927    Não sei se fui claro no título, mas quem é da ...\n",
              "3409    Alguém sabe me dizer qual a melhor forma de re...\n",
              "4606    Estou com problemas ao tentar validar campos d...\n",
              "5237    Preciso copiar um valor de dentro de um CODE  ...\n",
              "                              ...                        \n",
              "5218    Tenho um sisteminha, para mudar o layout da pá...\n",
              "4060    Como fazer alto scoll ao carregar a página?  E...\n",
              "1346    Explicação:  Tenho uma CODE  pai que contém du...\n",
              "3454    Estou querendo fazer um sistema onde eu iria t...\n",
              "3582    Galera eu to com um problemão, ja pesquisei ba...\n",
              "Name: Perguntas, Length: 4326, dtype: object"
            ]
          },
          "metadata": {
            "tags": []
          },
          "execution_count": 14
        }
      ]
    },
    {
      "cell_type": "code",
      "metadata": {
        "id": "92oPYJG1vRj8",
        "colab": {
          "base_uri": "https://localhost:8080/"
        },
        "outputId": "6718053b-37ad-4c06-d110-7ceb169ee25e"
      },
      "source": [
        "from sklearn.feature_extraction.text import TfidfVectorizer\n",
        "\n",
        "vetorizar = TfidfVectorizer(max_features=5000, max_df=0.85)\n",
        "vetorizar"
      ],
      "execution_count": 15,
      "outputs": [
        {
          "output_type": "execute_result",
          "data": {
            "text/plain": [
              "TfidfVectorizer(analyzer='word', binary=False, decode_error='strict',\n",
              "                dtype=<class 'numpy.float64'>, encoding='utf-8',\n",
              "                input='content', lowercase=True, max_df=0.85, max_features=5000,\n",
              "                min_df=1, ngram_range=(1, 1), norm='l2', preprocessor=None,\n",
              "                smooth_idf=True, stop_words=None, strip_accents=None,\n",
              "                sublinear_tf=False, token_pattern='(?u)\\\\b\\\\w\\\\w+\\\\b',\n",
              "                tokenizer=None, use_idf=True, vocabulary=None)"
            ]
          },
          "metadata": {
            "tags": []
          },
          "execution_count": 15
        }
      ]
    },
    {
      "cell_type": "code",
      "metadata": {
        "id": "vKuHvRZdxedg",
        "colab": {
          "base_uri": "https://localhost:8080/"
        },
        "outputId": "9d0130c6-c170-4cee-b529-893d23bcdf0d"
      },
      "source": [
        "vetorizar.fit(perguntas.Perguntas)\n",
        "perguntas_treino_tfidf = vetorizar.transform(perguntas_treino)\n",
        "perguntas_test_tfidf = vetorizar.transform(perguntas_test)\n",
        "print(perguntas_treino_tfidf.shape)\n",
        "print(perguntas_test_tfidf.shape)"
      ],
      "execution_count": 16,
      "outputs": [
        {
          "output_type": "stream",
          "text": [
            "(4326, 5000)\n",
            "(1082, 5000)\n"
          ],
          "name": "stdout"
        }
      ]
    },
    {
      "cell_type": "code",
      "metadata": {
        "id": "KQBmKb1f8zHe"
      },
      "source": [
        "import numpy as np\n",
        "\n",
        "tags_treino_array = np.asarray(list(tags_treino))\n",
        "tags_test_array = np.asarray(list(tags_teste))"
      ],
      "execution_count": 18,
      "outputs": []
    },
    {
      "cell_type": "code",
      "metadata": {
        "id": "6uLrAsrh-V5E",
        "colab": {
          "base_uri": "https://localhost:8080/"
        },
        "outputId": "65bbf7b4-43cd-4e2f-8335-e4809b9e6c88"
      },
      "source": [
        "tags_treino_array"
      ],
      "execution_count": 19,
      "outputs": [
        {
          "output_type": "execute_result",
          "data": {
            "text/plain": [
              "array([[0, 1, 0, 0],\n",
              "       [0, 1, 0, 0],\n",
              "       [0, 0, 1, 0],\n",
              "       ...,\n",
              "       [0, 1, 1, 0],\n",
              "       [0, 0, 1, 0],\n",
              "       [0, 1, 1, 0]])"
            ]
          },
          "metadata": {
            "tags": []
          },
          "execution_count": 19
        }
      ]
    },
    {
      "cell_type": "code",
      "metadata": {
        "id": "ho425yDn_cBv",
        "colab": {
          "base_uri": "https://localhost:8080/"
        },
        "outputId": "41c51758-9615-489b-b4de-bd543ea3fd89"
      },
      "source": [
        "type(tags_treino)"
      ],
      "execution_count": 20,
      "outputs": [
        {
          "output_type": "execute_result",
          "data": {
            "text/plain": [
              "pandas.core.series.Series"
            ]
          },
          "metadata": {
            "tags": []
          },
          "execution_count": 20
        }
      ]
    },
    {
      "cell_type": "code",
      "metadata": {
        "id": "U7VI2m4tJye9",
        "colab": {
          "base_uri": "https://localhost:8080/"
        },
        "outputId": "7248d575-760b-488a-e81a-35c34f1f8ab2"
      },
      "source": [
        "type(tags_treino)"
      ],
      "execution_count": 22,
      "outputs": [
        {
          "output_type": "execute_result",
          "data": {
            "text/plain": [
              "pandas.core.series.Series"
            ]
          },
          "metadata": {
            "tags": []
          },
          "execution_count": 22
        }
      ]
    },
    {
      "cell_type": "code",
      "metadata": {
        "id": "pOcRWKluKr7N",
        "colab": {
          "base_uri": "https://localhost:8080/"
        },
        "outputId": "95d8edac-fba1-418b-f25d-0700820966cf"
      },
      "source": [
        "import numpy as np\n",
        "\n",
        "tags_treino_array = np.asarray(list(tags_treino))\n",
        "tags_teste_array = np.asarray(list(tags_teste))\n",
        "print(tags_treino_array)\n",
        "print(type(tags_treino_array))"
      ],
      "execution_count": 23,
      "outputs": [
        {
          "output_type": "stream",
          "text": [
            "[[0 1 0 0]\n",
            " [0 1 0 0]\n",
            " [0 0 1 0]\n",
            " ...\n",
            " [0 1 1 0]\n",
            " [0 0 1 0]\n",
            " [0 1 1 0]]\n",
            "<class 'numpy.ndarray'>\n"
          ],
          "name": "stdout"
        }
      ]
    },
    {
      "cell_type": "code",
      "metadata": {
        "id": "FGJkjr2TL9uI",
        "colab": {
          "base_uri": "https://localhost:8080/"
        },
        "outputId": "0d805862-c895-4a9f-8813-1d69d353eb5c"
      },
      "source": [
        "from sklearn.multiclass import OneVsRestClassifier\n",
        "from sklearn.linear_model import LogisticRegression\n",
        "\n",
        "regressao_logistica = LogisticRegression(solver = 'lbfgs')\n",
        "classificador_onevsrest = OneVsRestClassifier(regressao_logistica)\n",
        "classificador_onevsrest.fit(perguntas_treino_tfidf, tags_treino_array)\n",
        "resultado_onevsrest = classificador_onevsrest.score(perguntas_test_tfidf, tags_teste_array)\n",
        "print(\"Resultado {0: .2f}%\".format(resultado_onevsrest*100))"
      ],
      "execution_count": 24,
      "outputs": [
        {
          "output_type": "stream",
          "text": [
            "Resultado  41.68%\n"
          ],
          "name": "stdout"
        }
      ]
    },
    {
      "cell_type": "code",
      "metadata": {
        "id": "Q_yJqObXOAPI",
        "colab": {
          "base_uri": "https://localhost:8080/"
        },
        "outputId": "163bca92-2e52-40d8-87f4-1411940e11c9"
      },
      "source": [
        "perguntas.todas_tags.unique()"
      ],
      "execution_count": 25,
      "outputs": [
        {
          "output_type": "execute_result",
          "data": {
            "text/plain": [
              "array([(1, 0, 0, 0), (0, 1, 0, 0), (0, 0, 1, 0), (0, 0, 1, 1),\n",
              "       (0, 0, 0, 1), (0, 1, 1, 0), (1, 0, 0, 1), (0, 1, 1, 1),\n",
              "       (0, 1, 0, 1), (1, 0, 1, 0), (1, 1, 0, 0), (1, 0, 1, 1),\n",
              "       (1, 1, 1, 0)], dtype=object)"
            ]
          },
          "metadata": {
            "tags": []
          },
          "execution_count": 25
        }
      ]
    },
    {
      "cell_type": "code",
      "metadata": {
        "id": "Ns5ncpYR_4-1",
        "colab": {
          "base_uri": "https://localhost:8080/"
        },
        "outputId": "9abd6388-fd87-4e1c-9487-8ae350bec89d"
      },
      "source": [
        "len(perguntas.todas_tags.unique())"
      ],
      "execution_count": 26,
      "outputs": [
        {
          "output_type": "execute_result",
          "data": {
            "text/plain": [
              "13"
            ]
          },
          "metadata": {
            "tags": []
          },
          "execution_count": 26
        }
      ]
    },
    {
      "cell_type": "code",
      "metadata": {
        "id": "tkIBKw-vAL04",
        "colab": {
          "base_uri": "https://localhost:8080/"
        },
        "outputId": "59e9b4a4-7000-4554-9be0-407bdd3e2df6"
      },
      "source": [
        "1/13"
      ],
      "execution_count": 27,
      "outputs": [
        {
          "output_type": "execute_result",
          "data": {
            "text/plain": [
              "0.07692307692307693"
            ]
          },
          "metadata": {
            "tags": []
          },
          "execution_count": 27
        }
      ]
    },
    {
      "cell_type": "code",
      "metadata": {
        "id": "riJ5pUNSAPqQ",
        "colab": {
          "base_uri": "https://localhost:8080/"
        },
        "outputId": "fd8cc484-cb3e-4139-fd1f-f3bf171d141c"
      },
      "source": [
        "from sklearn.metrics import hamming_loss\n",
        "\n",
        "previsao_onevsrest = classificador_onevsrest.predict(perguntas_test_tfidf)\n",
        "hamming_loss_onevsrest = hamming_loss(tags_teste_array, previsao_onevsrest)\n",
        "print(\"Hamming Loss {0: .2f}\".format(hamming_loss_onevsrest))"
      ],
      "execution_count": 28,
      "outputs": [
        {
          "output_type": "stream",
          "text": [
            "Hamming Loss  0.19\n"
          ],
          "name": "stdout"
        }
      ]
    },
    {
      "cell_type": "code",
      "metadata": {
        "id": "bg7zhEQEBh_F",
        "colab": {
          "base_uri": "https://localhost:8080/",
          "height": 164
        },
        "outputId": "4d5bdf2f-1906-449d-d5c1-181f9157c5f7"
      },
      "source": [
        "perguntas.corr()"
      ],
      "execution_count": 29,
      "outputs": [
        {
          "output_type": "execute_result",
          "data": {
            "text/html": [
              "<div>\n",
              "<style scoped>\n",
              "    .dataframe tbody tr th:only-of-type {\n",
              "        vertical-align: middle;\n",
              "    }\n",
              "\n",
              "    .dataframe tbody tr th {\n",
              "        vertical-align: top;\n",
              "    }\n",
              "\n",
              "    .dataframe thead th {\n",
              "        text-align: right;\n",
              "    }\n",
              "</style>\n",
              "<table border=\"1\" class=\"dataframe\">\n",
              "  <thead>\n",
              "    <tr style=\"text-align: right;\">\n",
              "      <th></th>\n",
              "      <th>node.js</th>\n",
              "      <th>jquery</th>\n",
              "      <th>html</th>\n",
              "      <th>angular</th>\n",
              "    </tr>\n",
              "  </thead>\n",
              "  <tbody>\n",
              "    <tr>\n",
              "      <th>node.js</th>\n",
              "      <td>1.000000</td>\n",
              "      <td>-0.321485</td>\n",
              "      <td>-0.273523</td>\n",
              "      <td>-0.101787</td>\n",
              "    </tr>\n",
              "    <tr>\n",
              "      <th>jquery</th>\n",
              "      <td>-0.321485</td>\n",
              "      <td>1.000000</td>\n",
              "      <td>-0.253977</td>\n",
              "      <td>-0.366269</td>\n",
              "    </tr>\n",
              "    <tr>\n",
              "      <th>html</th>\n",
              "      <td>-0.273523</td>\n",
              "      <td>-0.253977</td>\n",
              "      <td>1.000000</td>\n",
              "      <td>-0.286706</td>\n",
              "    </tr>\n",
              "    <tr>\n",
              "      <th>angular</th>\n",
              "      <td>-0.101787</td>\n",
              "      <td>-0.366269</td>\n",
              "      <td>-0.286706</td>\n",
              "      <td>1.000000</td>\n",
              "    </tr>\n",
              "  </tbody>\n",
              "</table>\n",
              "</div>"
            ],
            "text/plain": [
              "          node.js    jquery      html   angular\n",
              "node.js  1.000000 -0.321485 -0.273523 -0.101787\n",
              "jquery  -0.321485  1.000000 -0.253977 -0.366269\n",
              "html    -0.273523 -0.253977  1.000000 -0.286706\n",
              "angular -0.101787 -0.366269 -0.286706  1.000000"
            ]
          },
          "metadata": {
            "tags": []
          },
          "execution_count": 29
        }
      ]
    },
    {
      "cell_type": "code",
      "metadata": {
        "id": "Te3KvAfPBkwu",
        "colab": {
          "base_uri": "https://localhost:8080/"
        },
        "outputId": "86e15c7f-596f-4811-ded0-c5f3604835a3"
      },
      "source": [
        "!pip install scikit-multilearn"
      ],
      "execution_count": 30,
      "outputs": [
        {
          "output_type": "stream",
          "text": [
            "Collecting scikit-multilearn\n",
            "  Downloading scikit_multilearn-0.2.0-py3-none-any.whl (89 kB)\n",
            "\u001b[?25l\r\u001b[K     |███▊                            | 10 kB 20.1 MB/s eta 0:00:01\r\u001b[K     |███████▍                        | 20 kB 14.7 MB/s eta 0:00:01\r\u001b[K     |███████████                     | 30 kB 11.1 MB/s eta 0:00:01\r\u001b[K     |██████████████▊                 | 40 kB 9.0 MB/s eta 0:00:01\r\u001b[K     |██████████████████▍             | 51 kB 5.1 MB/s eta 0:00:01\r\u001b[K     |██████████████████████          | 61 kB 5.6 MB/s eta 0:00:01\r\u001b[K     |█████████████████████████▊      | 71 kB 6.0 MB/s eta 0:00:01\r\u001b[K     |█████████████████████████████▍  | 81 kB 6.5 MB/s eta 0:00:01\r\u001b[K     |████████████████████████████████| 89 kB 3.3 MB/s \n",
            "\u001b[?25hInstalling collected packages: scikit-multilearn\n",
            "Successfully installed scikit-multilearn-0.2.0\n"
          ],
          "name": "stdout"
        }
      ]
    },
    {
      "cell_type": "code",
      "metadata": {
        "id": "A8DCR1TyEXla",
        "colab": {
          "base_uri": "https://localhost:8080/"
        },
        "outputId": "d20911f9-7c42-4249-a7d9-075ef6deb88f"
      },
      "source": [
        "from skmultilearn.problem_transform import ClassifierChain\n",
        "\n",
        "classificador_cadeia = ClassifierChain(regressao_logistica)\n",
        "classificador_cadeia.fit(perguntas_treino_tfidf, tags_treino_array)\n",
        "resultado_cadeia = classificador_cadeia.score(perguntas_test_tfidf, tags_teste_array)\n",
        "previsao_cadeia = classificador_cadeia.predict(perguntas_test_tfidf)\n",
        "hamming_loss_cadeia = hamming_loss(tags_teste_array, previsao_cadeia)\n",
        "print(\"Hamming Loss {0: .2f}\".format(hamming_loss_cadeia))\n",
        "print(\"Resultado {0: .2f}%\".format(resultado_cadeia*100))"
      ],
      "execution_count": 31,
      "outputs": [
        {
          "output_type": "stream",
          "text": [
            "Hamming Loss  0.21\n",
            "Resultado  49.82%\n"
          ],
          "name": "stdout"
        }
      ]
    },
    {
      "cell_type": "code",
      "metadata": {
        "id": "P7ZLzYPhNeJ6",
        "colab": {
          "base_uri": "https://localhost:8080/"
        },
        "outputId": "79a10a4a-b71a-4335-d625-6b1a50cc30de"
      },
      "source": [
        "from skmultilearn.problem_transform import BinaryRelevance\n",
        "\n",
        "classificador_br = BinaryRelevance(regressao_logistica)\n",
        "classificador_br.fit(perguntas_treino_tfidf, tags_treino_array)\n",
        "resultado_br = classificador_br.score(perguntas_test_tfidf, tags_teste_array)\n",
        "previsao_br = classificador_br.predict(perguntas_test_tfidf)\n",
        "hamming_loss_br = hamming_loss(tags_teste_array, previsao_br)\n",
        "print(\"Hamming Loss {0: .2f}\".format(hamming_loss_br))\n",
        "print(\"Resultado {0: .2f}%\".format(resultado_br*100))"
      ],
      "execution_count": 32,
      "outputs": [
        {
          "output_type": "stream",
          "text": [
            "Hamming Loss  0.19\n",
            "Resultado  41.68%\n"
          ],
          "name": "stdout"
        }
      ]
    },
    {
      "cell_type": "code",
      "metadata": {
        "id": "FTUmPW8JMqwm",
        "colab": {
          "base_uri": "https://localhost:8080/"
        },
        "outputId": "1439808d-86d8-47b4-91cf-077a8e3e34a7"
      },
      "source": [
        "from skmultilearn.adapt import MLkNN\n",
        "\n",
        "classificador_mlknn = MLkNN()\n",
        "\n",
        "classificador_mlknn.fit(perguntas_treino_tfidf, tags_treino_array)\n",
        "resultado_mlknn = classificador_mlknn.score(perguntas_test_tfidf, tags_teste_array)\n",
        "previsao_mlknn = classificador_mlknn.predict(perguntas_test_tfidf)\n",
        "hamming_loss_mlknn = hamming_loss(tags_teste_array, previsao_mlknn)\n",
        "print(\"Hamming Loss {0: .2f}\".format(hamming_loss_mlknn))\n",
        "print(\"Resultado {0: .2f}%\".format(resultado_mlknn*100))"
      ],
      "execution_count": 33,
      "outputs": [
        {
          "output_type": "stream",
          "text": [
            "Hamming Loss  0.25\n",
            "Resultado  32.53%\n"
          ],
          "name": "stdout"
        }
      ]
    }
  ]
}